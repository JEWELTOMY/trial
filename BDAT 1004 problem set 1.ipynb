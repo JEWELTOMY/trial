{
 "cells": [
  {
   "cell_type": "markdown",
   "id": "c3dd101c",
   "metadata": {},
   "source": [
    "<h1>Question 1 C#</h1>\n",
    "What data type is each of the following?\n"
   ]
  },
  {
   "cell_type": "markdown",
   "id": "d1f45e7a",
   "metadata": {},
   "source": [
    "5         -<b>INTEGER DATA TYPE(INT32)</b> <br>\n",
    "5.0       -<b>double data type </b><br>\n",
    "5 > 1     -<b>Boolean data type</b> <br>\n",
    "'5'       -<b>char data type</b> <br>\n",
    "5 * 2     -<b>integer data type</b> <br>\n",
    "'5' * 2   -<b>integer data type</b> <br>\n",
    "'5' + '2' -<b>integer data type</b> <br>\n",
    "5 / 2     -<b>integer data type</b> <br>\n",
    "5 % 2     -<b>integer data type </b><br>\n",
    "{5, 2, 1} -<b> integer data type</b> <br>\n",
    "5 == 3    -<b>boolean data type</b> <br>\n",
    "Pi (the number) -<b>double data type </b><br>\n"
   ]
  },
  {
   "cell_type": "code",
   "execution_count": 8,
   "id": "c3c84439",
   "metadata": {},
   "outputs": [
    {
     "name": "stdout",
     "output_type": "stream",
     "text": [
      "System.Int32\r\n"
     ]
    }
   ],
   "source": [
    "Console.WriteLine(5.GetType());"
   ]
  },
  {
   "cell_type": "code",
   "execution_count": 9,
   "id": "97677032",
   "metadata": {},
   "outputs": [
    {
     "name": "stdout",
     "output_type": "stream",
     "text": [
      "System.Double\r\n"
     ]
    }
   ],
   "source": [
    "Console.WriteLine(5.0.GetType());"
   ]
  },
  {
   "cell_type": "code",
   "execution_count": 11,
   "id": "13fbcea3",
   "metadata": {},
   "outputs": [
    {
     "name": "stdout",
     "output_type": "stream",
     "text": [
      "System.Boolean\r\n"
     ]
    }
   ],
   "source": [
    "var a = 5>1;\n",
    "Console.WriteLine(a.GetType());"
   ]
  },
  {
   "cell_type": "code",
   "execution_count": 12,
   "id": "eac14ca3",
   "metadata": {},
   "outputs": [
    {
     "name": "stdout",
     "output_type": "stream",
     "text": [
      "System.Char\r\n"
     ]
    }
   ],
   "source": [
    "Console.WriteLine('5'.GetType());"
   ]
  },
  {
   "cell_type": "code",
   "execution_count": 15,
   "id": "fdd96cb8",
   "metadata": {},
   "outputs": [
    {
     "name": "stdout",
     "output_type": "stream",
     "text": [
      "System.Int32\r\n"
     ]
    }
   ],
   "source": [
    "var j =5*2;\n",
    "Console.WriteLine(j.GetType());"
   ]
  },
  {
   "cell_type": "code",
   "execution_count": 16,
   "id": "975456b1",
   "metadata": {},
   "outputs": [
    {
     "name": "stdout",
     "output_type": "stream",
     "text": [
      "System.Int32\r\n"
     ]
    }
   ],
   "source": [
    "var j ='5'*2;\n",
    "Console.WriteLine(j.GetType());"
   ]
  },
  {
   "cell_type": "code",
   "execution_count": 17,
   "id": "fdc7a319",
   "metadata": {},
   "outputs": [
    {
     "name": "stdout",
     "output_type": "stream",
     "text": [
      "System.Int32\r\n"
     ]
    }
   ],
   "source": [
    "var j ='5'+'2';\n",
    "Console.WriteLine(j.GetType());\n"
   ]
  },
  {
   "cell_type": "code",
   "execution_count": 18,
   "id": "b8db5f69",
   "metadata": {},
   "outputs": [
    {
     "name": "stdout",
     "output_type": "stream",
     "text": [
      "System.Int32\r\n"
     ]
    }
   ],
   "source": [
    "var j =5/2;\n",
    "Console.WriteLine(j.GetType());"
   ]
  },
  {
   "cell_type": "code",
   "execution_count": 19,
   "id": "0fe48a42",
   "metadata": {},
   "outputs": [
    {
     "name": "stdout",
     "output_type": "stream",
     "text": [
      "System.Int32\r\n"
     ]
    }
   ],
   "source": [
    "var j=5%2;\n",
    "Console.WriteLine(j.GetType());"
   ]
  },
  {
   "cell_type": "code",
   "execution_count": 21,
   "id": "62d6795f",
   "metadata": {},
   "outputs": [
    {
     "name": "stdout",
     "output_type": "stream",
     "text": [
      "System.Boolean\r\n"
     ]
    }
   ],
   "source": [
    "var j = 5 == 3;\n",
    "Console.WriteLine(j.GetType());"
   ]
  },
  {
   "cell_type": "markdown",
   "id": "e6ac4dfd",
   "metadata": {},
   "source": [
    "<h1>Question 2 C#</h1> <br>\n",
    "Write (and evaluate) C# expressions that answer these questions:  <br>\n",
    "a. How many letters are there in 'Supercalifragilisticexpialidocious'? <br>\n",
    "b. Does 'Supercalifragilisticexpialidocious' contain 'ice' as a substring?<br>\n",
    "c. Which of the following words is the longest: <br>\n",
    "Supercalifragilisticexpialidocious, Honorificabilitudinitatibus, or \n",
    "Bababadalgharaghtakamminarronnkonn? <br>\n",
    "d. Which composer comes first in the dictionary: 'Berlioz', 'Borodin', 'Brian', \n",
    "'Bartok', 'Bellini', 'Buxtehude', 'Bernstein'. Which one comes last?<br>"
   ]
  },
  {
   "cell_type": "code",
   "execution_count": 52,
   "id": "ebf4efcd",
   "metadata": {},
   "outputs": [
    {
     "name": "stdout",
     "output_type": "stream",
     "text": [
      "34\r\n"
     ]
    }
   ],
   "source": [
    "//a.\n",
    "string word =\"Supercalifragilisticexpialidocious\";\n",
    "Console.WriteLine(word.Length);\n",
    "\n"
   ]
  },
  {
   "cell_type": "code",
   "execution_count": 53,
   "id": "692b143f",
   "metadata": {},
   "outputs": [
    {
     "name": "stdout",
     "output_type": "stream",
     "text": [
      "Supercalifragilisticexpialidocious contains ice\r\n"
     ]
    }
   ],
   "source": [
    "//b.\n",
    "string s1 = \"Supercalifragilisticexpialidocious\";\n",
    "string s2 = \"ice\";\n",
    "//using conditional to check whether ice is inside Supercalifragilisticexpialidocious\n",
    "if (s1.Contains(s2))\n",
    "    Console.WriteLine(\"Supercalifragilisticexpialidocious contains ice\");\n",
    "else\n",
    "    Console.WriteLine(\"Supercalifragilisticexpialidocious does not contain ice\");"
   ]
  },
  {
   "cell_type": "code",
   "execution_count": 54,
   "id": "46fcd58a",
   "metadata": {},
   "outputs": [
    {
     "name": "stdout",
     "output_type": "stream",
     "text": [
      "Supercalifragilisticexpialidocious and Bababadalgharaghtakamminarronnkonn are of the same length and both are longer than Honorificabilitudinitatibus\r\n"
     ]
    }
   ],
   "source": [
    "//c.\n",
    "string s1=\"Supercalifragilisticexpialidocious\";\n",
    "string s2 =\"Honorificabilitudinitatibus\";\n",
    "string s3=\"Bababadalgharaghtakamminarronnkonn\";\n",
    "//checking which word is bigger by using nested if-else statement.\n",
    "//also checking whether any of the given words have same length.\n",
    "if (s1.Length>s2.Length)\n",
    "    {\n",
    "    if (s1.Length>s3.Length)\n",
    "        Console.WriteLine(\"{0} is the longest\",s1);\n",
    "    else if (s1.Length == s3.Length)\n",
    "        Console.WriteLine(\"\" +s1+ \" and \" +s3+ \" are of the same length and both are longer than \" +s2 + \"\");\n",
    "    else\n",
    "        Console.WriteLine(\"{0} is the longest\",s3);\n",
    "    }\n",
    "else if (s1.Length == s2.Length && s1.Length > s3.Length)\n",
    "    {\n",
    "    Console.WriteLine(\" \" + s1+ \" and \" +s2+ \" are of the same length and both are longer than \" +s3 + \"\");\n",
    "    }\n",
    "else\n",
    "    {\n",
    "    if (s2.Length > s3.Length)\n",
    "        Console.WriteLine(\"{0} is the longest\",s2);\n",
    "    else if (s2.Length == s3.Length)\n",
    "        Console.WriteLine(\"{0} and {1} are of the same length and both are longer that {3}\",s2,s3,s1);\n",
    "    else\n",
    "        Console.WriteLine(\"{0} is the longest\", s3);\n",
    "    }"
   ]
  },
  {
   "cell_type": "code",
   "execution_count": 2,
   "id": "25bceba5",
   "metadata": {},
   "outputs": [
    {
     "name": "stdout",
     "output_type": "stream",
     "text": [
      "The composer that comes first in the dictionary is Bartok\n",
      "The composer that comes first in the dictionary is Buxtehude\n"
     ]
    }
   ],
   "source": [
    "//d.\n",
    "//creating a list and using the sort method for list to sort alphabetically.\n",
    "List<string> composers = new List<string> {\"Berlioz\", \"Borodin\", \"Brian\", \"Bartok\", \"Bellini\", \"Buxtehude\", \"Bernstein\"};\n",
    "\n",
    "composers.Sort();\n",
    "Console.WriteLine(\"The composer that comes first in the dictionary is \" + composers[0]);\n",
    "Console.WriteLine(\"The composer that comes first in the dictionary is \" + composers[6]);"
   ]
  },
  {
   "cell_type": "markdown",
   "id": "a1229dd8",
   "metadata": {},
   "source": [
    "<h1>Question 3 C#</h1>\n",
    "Implement function triangleArea(a,b,c) that takes as input the lengths of the 3\n",
    "sides of a triangle and returns the area of the triangle. By Heron's formula, the area \n",
    "of a triangle with side lengths a, b, and c is<br>\n",
    "sqrt(s(s - a)(s -b)(s -c))\n",
    ", where <br>\n",
    "s = (a+b+c)/2. "
   ]
  },
  {
   "cell_type": "code",
   "execution_count": 5,
   "id": "70a2634d",
   "metadata": {},
   "outputs": [
    {
     "name": "stdout",
     "output_type": "stream",
     "text": [
      "The area of the triangle is 1.7320508075688772\r\n"
     ]
    }
   ],
   "source": [
    "//creating a function triangleArea to enter three inputs and to find their area based on Heron's formula.\n",
    "    public void triangleArea(int a, int b, int c)\n",
    "    {\n",
    "        \n",
    "        var s = (a+b+c)/2;\n",
    "        var area = Math.Sqrt(s*(s-a)*(s-b)*(s-c));\n",
    "        Console.WriteLine(\"The area of the triangle is \" +area+ \"\");\n",
    "        \n",
    "    }\n",
    "//calling the function.  \n",
    " triangleArea(2,2,2);\n",
    "        \n",
    "        \n",
    "    \n"
   ]
  },
  {
   "cell_type": "markdown",
   "id": "87217b07",
   "metadata": {},
   "source": [
    "<h1>Question 4 C#</h1>\n",
    "Write a program in C# Sharp to separate odd and even integers in separate arrays. "
   ]
  },
  {
   "cell_type": "code",
   "execution_count": 24,
   "id": "4f3c3fb5",
   "metadata": {},
   "outputs": [
    {
     "name": "stdout",
     "output_type": "stream",
     "text": [
      "The even elements are :\n",
      "42\n",
      "56\n",
      "32\n",
      "The odd elements are :\n",
      "25\n",
      "47\n"
     ]
    }
   ],
   "source": [
    "//creating a list to add given numbers.\n",
    "//creating empty even and odd lists to add respective numbers later.\n",
    "int[] TestData = new int [5] {25,47,42,56,32};\n",
    "List<int> even = new List<int>();\n",
    "List<int> odd = new List<int>();\n",
    "//checking whether the given number is even or odd and adding them to their respective lists\n",
    "foreach (int number in TestData)\n",
    "    {\n",
    "        if (number%2==0)\n",
    "           even.Add(number);\n",
    "        else\n",
    "            odd.Add(number);\n",
    "    }\n",
    "Console.WriteLine(\"The even elements are :\");\n",
    "foreach (int value in even)\n",
    "    Console.WriteLine(value);\n",
    "Console.WriteLine(\"The odd elements are :\");\n",
    "foreach (int value in odd)\n",
    "    Console.WriteLine(value);"
   ]
  },
  {
   "cell_type": "markdown",
   "id": "f5fe2d34",
   "metadata": {},
   "source": [
    "# Question 5 C#\n",
    "<b>a.</b> Write a function inside(x,y,x1,y1,x2,y2) that returns True or False \n",
    "depending on whether the point (x,y) lies in the rectangle with lower left \n",
    "corner (x1,y1) and upper right corner (x2,y2)."
   ]
  },
  {
   "cell_type": "code",
   "execution_count": 12,
   "id": "06c42ecb",
   "metadata": {},
   "outputs": [
    {
     "name": "stdout",
     "output_type": "stream",
     "text": [
      "True\r\n"
     ]
    }
   ],
   "source": [
    "//creating a boolean fuction to check whether the given value lies inside a rectangle.\n",
    "public bool inside(double x,double y,double x1,double y1,double x2,double y2)\n",
    "    {\n",
    "        if (x>x1 && y>y1)\n",
    "            {\n",
    "                if (x<x2 && y<y2)\n",
    "                    return true;\n",
    "                else\n",
    "                    return false;\n",
    "            }\n",
    "        else\n",
    "            return false;\n",
    "    }\n",
    "Console.WriteLine(inside(1,1,0,0,2,3));\n"
   ]
  },
  {
   "cell_type": "code",
   "execution_count": 13,
   "id": "ca0d96bb",
   "metadata": {},
   "outputs": [
    {
     "name": "stdout",
     "output_type": "stream",
     "text": [
      "False\r\n"
     ]
    }
   ],
   "source": [
    "Console.WriteLine(inside(-1,-1,0,0,2,3));"
   ]
  },
  {
   "cell_type": "markdown",
   "id": "0996c242",
   "metadata": {},
   "source": [
    "<b>b.</b> Use function inside() from part a. to write an expression that tests whether \n",
    "the point (1,1) lies in both of the following rectangles: one with lower left \n",
    "corner (0.3, 0.5) and upper right corner (1.1, 0.7) and the other with lower \n",
    "left corner (0.5, 0.2) and upper right corner (1.1, 2). "
   ]
  },
  {
   "cell_type": "code",
   "execution_count": 14,
   "id": "bc637f12",
   "metadata": {},
   "outputs": [
    {
     "name": "stdout",
     "output_type": "stream",
     "text": [
      "False\r\n"
     ]
    }
   ],
   "source": [
    "Console.WriteLine(inside(1,1,0.3,0.5,1.1,0.7));"
   ]
  },
  {
   "cell_type": "code",
   "execution_count": 16,
   "id": "7c1589cb",
   "metadata": {},
   "outputs": [
    {
     "name": "stdout",
     "output_type": "stream",
     "text": [
      "True\r\n"
     ]
    }
   ],
   "source": [
    "Console.WriteLine(inside(1,1,0.5,0.2,1.1,2));"
   ]
  },
  {
   "cell_type": "markdown",
   "id": "f06c058f",
   "metadata": {},
   "source": [
    "# Question 6 Python\n",
    "<b>6.</b> You can turn a word into pig-Latin using the following two rules (simplified):<br>\n",
    "• If the word starts with a consonant, move that letter to the end and append \n",
    "'ay'.<br> For example, 'happy' becomes 'appyhay' and 'pencil' becomes 'encilpay'.<br> \n",
    "• If the word starts with a vowel, simply append 'way' to the end of the word.<br>\n",
    "For example, 'enter' becomes 'enterway' and 'other' becomes 'otherway' . For \n",
    "our purposes, there are 5 vowels: a, e, i, o, u (so we count y as a consonant).\n",
    "Write a function pig() that takes a word (i.e., a string) as input and returns its pig\u0002Latin form. Your function should still work if the input word contains upper case \n",
    "characters. Your output should always be lower case however."
   ]
  },
  {
   "cell_type": "code",
   "execution_count": 81,
   "id": "1e69dd6a",
   "metadata": {},
   "outputs": [
    {
     "name": "stdout",
     "output_type": "stream",
     "text": [
      "appyhay\n",
      "enterway\n"
     ]
    }
   ],
   "source": [
    "def pig(word):\n",
    "    words=\"\"\n",
    "    #converting upper case to lower case\n",
    "    letter = word[0].lower()\n",
    "    if letter in ['a','e','i','o','u']:\n",
    "           words = word + \"way\"\n",
    "    else:\n",
    "        #slicing letters from word\n",
    "        words = word[1:]+word[0]+'ay'\n",
    "    #returning upper case letters as lower case in output\n",
    "    print(words.lower())\n",
    "pig('happy')  \n",
    "pig('Enter')"
   ]
  },
  {
   "cell_type": "markdown",
   "id": "19c8321a",
   "metadata": {},
   "source": [
    "# Question 7 Python\n",
    "File bloodtype1.txt records blood-types of patients (A, B, AB, O or OO) at a clinic. \n",
    "Write a function bldcount() that reads the file with name *name* and reports (i.e., \n",
    "prints) how many patients there are in each bloodtype."
   ]
  },
  {
   "cell_type": "code",
   "execution_count": 105,
   "id": "ff471519",
   "metadata": {},
   "outputs": [
    {
     "name": "stdout",
     "output_type": "stream",
     "text": [
      "There are 15 patients of blood type A\n",
      "There is one patient of blood type B\n",
      "There are 13 patients of blood type AB\n",
      "There are 15 patients of blood type O\n",
      "There are no patients of blood type OO\n"
     ]
    }
   ],
   "source": [
    "def bldcount(filename):\n",
    "    file = open(filename)\n",
    "    #using read function to read the file\n",
    "    text =file.read()\n",
    "    #using split to get each input seperated\n",
    "    words=text.split()\n",
    "    types=['A','B','AB','O','OO']\n",
    "    #using a loop to check the count\n",
    "    for typ in types:\n",
    "        if words.count(typ)==1:\n",
    "            print(\"There is one patient of blood type \" + typ)\n",
    "        elif words.count(typ)==0:\n",
    "            print(\"There are no patients of blood type \" + typ)\n",
    "        else:\n",
    "            print(\"There are \" +str(words.count(typ))+\" patients of blood type \" +typ )\n",
    "bldcount('\\\\Users\\\\jewel\\\\Downloads\\\\bloodcount.txt')"
   ]
  },
  {
   "cell_type": "markdown",
   "id": "f3df309a",
   "metadata": {},
   "source": [
    "# Question 8 Python\n",
    "Write a function curconv() that takes as input:<br>\n",
    "1. a currency represented using a string (e.g., 'JPY' for the Japanese Yen or \n",
    "'EUR' for the Euro)<br>\n",
    "2. an amount\n",
    "and then converts and returns the amount in US dollars.<br>"
   ]
  },
  {
   "cell_type": "code",
   "execution_count": 128,
   "id": "f27d6bff",
   "metadata": {},
   "outputs": [
    {
     "name": "stdout",
     "output_type": "stream",
     "text": [
      "122.96544\n",
      "1.241401\n"
     ]
    }
   ],
   "source": [
    "def curconv(currency,amount):\n",
    "    file=open('\\\\Users\\\\jewel\\\\Downloads\\\\currency.txt','r')\n",
    "    for line in file:\n",
    "        words=line.split()\n",
    "        #using conditional to get the desired output\n",
    "        if currency ==words[0]:\n",
    "            amount *= float(words[1])\n",
    "            return amount\n",
    "print(curconv('EUR',100))\n",
    "print(curconv('JPY',100))"
   ]
  },
  {
   "cell_type": "markdown",
   "id": "f8042464",
   "metadata": {},
   "source": [
    "# Question 9 Python\n",
    "Each of the following will cause an exception (an error). Identify what type of \n",
    "exception each will cause."
   ]
  },
  {
   "cell_type": "markdown",
   "id": "a135f748",
   "metadata": {},
   "source": [
    "1.Trying to add incompatible variables, as in \n",
    "adding 6 + ‘a’<br>\n",
    "\n",
    "answer) TypeError"
   ]
  },
  {
   "cell_type": "markdown",
   "id": "b96bd339",
   "metadata": {},
   "source": [
    "2.Referring to the 12th item of a list that has only 10 \n",
    "items<br>\n",
    "answer) IndexError"
   ]
  },
  {
   "cell_type": "markdown",
   "id": "0d1f8488",
   "metadata": {},
   "source": [
    "3.Using a value that is out of range for a function’s \n",
    "input, such as calling math.sqrt(-1.0)<br>\n",
    "answer) ValueError"
   ]
  },
  {
   "cell_type": "markdown",
   "id": "7127554b",
   "metadata": {},
   "source": [
    "4.Using an undeclared variable, such as print(x)\n",
    "when x has not been defined <br>\n",
    "answer) NameError"
   ]
  },
  {
   "cell_type": "markdown",
   "id": "938e3732",
   "metadata": {},
   "source": [
    "5.Trying to open a file that does not exist, such as \n",
    "mistyping the file name or looking in the wrong \n",
    "directory.<br>\n",
    "answer) FileNotFoundError"
   ]
  },
  {
   "cell_type": "markdown",
   "id": "d7feb297",
   "metadata": {},
   "source": [
    "# Question 10 Python\n",
    "Assume that the string letters is already defined as \n",
    "'abcdefghijklmnopqrstuvwxyz'. Write a function called frequencies()\n",
    "that takes a string as its only parameter, and returns a list of integers, showing the \n",
    "number of times each character appears in the text. Your function may ignore any \n",
    "characters that are not in letters. "
   ]
  },
  {
   "cell_type": "code",
   "execution_count": 179,
   "id": "027df443",
   "metadata": {},
   "outputs": [
    {
     "name": "stdout",
     "output_type": "stream",
     "text": [
      "[1, 1, 1, 3, 5, 1, 1, 2, 1, 0, 1, 0, 1, 2, 4, 0, 1, 2, 0, 2, 1, 0, 1, 1, 0, 0]\n",
      "[1, 0, 0, 0, 1, 0, 0, 0, 0, 0, 0, 1, 0, 0, 0, 2, 0, 0, 0, 0, 0, 0, 0, 0, 0, 0]\n"
     ]
    }
   ],
   "source": [
    "letters = ['a','b','c','d','e','f','g','h','i','j','k','l','m','n','o','p','q','r','s','t','u','v','w','x','y','z']\n",
    "def frequencies(word):\n",
    "    letr=[]\n",
    "    #loop to check whether the letter is inside the list letters\n",
    "    for i in letters:\n",
    "        if i in word:\n",
    "            letr.append(word.count(i))\n",
    "        else:\n",
    "            letr.append(word.count(i))\n",
    "    return letr\n",
    "print(frequencies('The quick red fox got bored and went home.'))\n",
    "print(frequencies('apple'))\n"
   ]
  },
  {
   "cell_type": "code",
   "execution_count": null,
   "id": "ea765203",
   "metadata": {},
   "outputs": [],
   "source": []
  }
 ],
 "metadata": {
  "kernelspec": {
   "display_name": ".NET (C#)",
   "language": "C#",
   "name": ".net-csharp"
  },
  "language_info": {
   "file_extension": ".cs",
   "mimetype": "text/x-csharp",
   "name": "C#",
   "pygments_lexer": "csharp",
   "version": "8.0"
  }
 },
 "nbformat": 4,
 "nbformat_minor": 5
}
